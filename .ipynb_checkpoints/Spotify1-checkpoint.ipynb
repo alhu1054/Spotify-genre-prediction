{
 "cells": [
  {
   "cell_type": "markdown",
   "id": "1792032a-9737-4771-a097-a6b3069a6fb3",
   "metadata": {},
   "source": [
    "# Predicting the Genre of spotify tracks data."
   ]
  },
  {
   "cell_type": "code",
   "execution_count": 1,
   "id": "f6194bb4-2d49-4228-b049-7a4bbaab9542",
   "metadata": {},
   "outputs": [],
   "source": [
    "import pandas as pd\n",
    "import matplotlib.pyplot as plt\n",
    "import numpy as np\n",
    "import seaborn as sns\n",
    "import math\n",
    "from sklearn.metrics import accuracy_score, confusion_matrix\n",
    "from sklearn.cluster import AgglomerativeClustering, KMeans\n"
   ]
  },
  {
   "cell_type": "markdown",
   "id": "e2efd606-5931-4a92-80c1-cbc2bbc39388",
   "metadata": {},
   "source": [
    "The data for this project comes from kaggle.\n",
    "https://www.kaggle.com/datasets/siropo/spotify-multigenre-playlists-data\n",
    "\n",
    "The data consist of 7 csv files, one file per music genre. \n",
    "I'm going to try to use the soings attributes to cluster the songs and see if such clustering fits the genre that comes in the data. \n",
    "\n",
    "My approach will be first try some unsupervised methods and see how the data gets clustered which such methods.  The methods will be agglomerative clustering, k means clustering and NMF to get the topics, then I will try some supervised methods to compare the results. "
   ]
  },
  {
   "cell_type": "markdown",
   "id": "0c084896-2942-4831-97ec-523925d0e517",
   "metadata": {},
   "source": [
    "### Exploratory Data Analysis.\n",
    "First I load the 7 different files, the name of the genre of the songs is in each file name. "
   ]
  },
  {
   "cell_type": "code",
   "execution_count": 2,
   "id": "02bd6b60-975c-4ac2-bb52-900b29f9b66f",
   "metadata": {},
   "outputs": [],
   "source": [
    "t1 = pd.read_csv('blues_music_data.csv')\n",
    "t2 = pd.read_csv('hiphop_music_data.csv')\n",
    "t3 = pd.read_csv('indie_alt_music_data.csv')\n",
    "t4 = pd.read_csv('metal_music_data.csv')\n",
    "t5 = pd.read_csv('pop_music_data.csv')\n",
    "t6 = pd.read_csv('rock_music_data.csv')\n",
    "t7 = pd.read_csv('alternative_music_data.csv')"
   ]
  },
  {
   "cell_type": "markdown",
   "id": "72b1c2cd-1d78-4bd7-ab40-769ba6d33a7b",
   "metadata": {},
   "source": [
    "Add the genre column and column id to each dataframe."
   ]
  },
  {
   "cell_type": "code",
   "execution_count": 3,
   "id": "f012dbad-aba8-49a7-ad4b-97dad398d885",
   "metadata": {},
   "outputs": [],
   "source": [
    "\n",
    "t1['Genre'] = 'blues'\n",
    "t1['Genre_id'] = 0\n",
    "\n",
    "t2['Genre'] = 'hiphop'\n",
    "t2['Genre_id'] = 1\n",
    "\n",
    "t3['Genre'] = 'indie'\n",
    "t3['Genre_id'] = 2\n",
    "\n",
    "t4['Genre'] = 'metal'\n",
    "t4['Genre_id'] = 3\n",
    "\n",
    "t5[\"Genre\"] = 'pop'\n",
    "t5['Genre_id'] = 4\n",
    "\n",
    "t6['Genre'] = 'rock'\n",
    "t6['Genre_id'] = 5\n",
    "\n",
    "t7['Genre'] = 'alternative'\n",
    "t7['Genre_id'] = 6"
   ]
  },
  {
   "cell_type": "markdown",
   "id": "61c6d6d4-5897-4aea-a688-a5f4d3161c3b",
   "metadata": {},
   "source": [
    "Join all the data frames in one that be used for the analysis. And take a look at the information of such data frame. How many songs are per genre. I will only use 6 genres."
   ]
  },
  {
   "cell_type": "code",
   "execution_count": 4,
   "id": "1650f972-321c-48ad-9534-75df3100407f",
   "metadata": {},
   "outputs": [
    {
     "name": "stdout",
     "output_type": "stream",
     "text": [
      "<class 'pandas.core.frame.DataFrame'>\n",
      "RangeIndex: 24592 entries, 0 to 24591\n",
      "Data columns (total 24 columns):\n",
      " #   Column            Non-Null Count  Dtype  \n",
      "---  ------            --------------  -----  \n",
      " 0   Artist Name       24592 non-null  object \n",
      " 1   Track Name        24592 non-null  object \n",
      " 2   Popularity        24592 non-null  int64  \n",
      " 3   Genres            24592 non-null  object \n",
      " 4   Playlist          24592 non-null  object \n",
      " 5   danceability      24592 non-null  float64\n",
      " 6   energy            24592 non-null  float64\n",
      " 7   key               24592 non-null  int64  \n",
      " 8   loudness          24592 non-null  float64\n",
      " 9   mode              24592 non-null  int64  \n",
      " 10  speechiness       24592 non-null  float64\n",
      " 11  acousticness      24592 non-null  float64\n",
      " 12  instrumentalness  24592 non-null  float64\n",
      " 13  liveness          24592 non-null  float64\n",
      " 14  valence           24592 non-null  float64\n",
      " 15  tempo             24592 non-null  float64\n",
      " 16  id                24592 non-null  object \n",
      " 17  uri               24592 non-null  object \n",
      " 18  track_href        24592 non-null  object \n",
      " 19  analysis_url      24592 non-null  object \n",
      " 20  duration_ms       24592 non-null  int64  \n",
      " 21  time_signature    24592 non-null  int64  \n",
      " 22  Genre             24592 non-null  object \n",
      " 23  Genre_id          24592 non-null  int64  \n",
      "dtypes: float64(9), int64(6), object(9)\n",
      "memory usage: 4.5+ MB\n"
     ]
    },
    {
     "data": {
      "text/html": [
       "<div>\n",
       "<style scoped>\n",
       "    .dataframe tbody tr th:only-of-type {\n",
       "        vertical-align: middle;\n",
       "    }\n",
       "\n",
       "    .dataframe tbody tr th {\n",
       "        vertical-align: top;\n",
       "    }\n",
       "\n",
       "    .dataframe thead th {\n",
       "        text-align: right;\n",
       "    }\n",
       "</style>\n",
       "<table border=\"1\" class=\"dataframe\">\n",
       "  <thead>\n",
       "    <tr style=\"text-align: right;\">\n",
       "      <th></th>\n",
       "      <th>Popularity</th>\n",
       "      <th>danceability</th>\n",
       "      <th>energy</th>\n",
       "      <th>key</th>\n",
       "      <th>loudness</th>\n",
       "      <th>mode</th>\n",
       "      <th>speechiness</th>\n",
       "      <th>acousticness</th>\n",
       "      <th>instrumentalness</th>\n",
       "      <th>liveness</th>\n",
       "      <th>valence</th>\n",
       "      <th>tempo</th>\n",
       "      <th>duration_ms</th>\n",
       "      <th>time_signature</th>\n",
       "      <th>Genre_id</th>\n",
       "    </tr>\n",
       "  </thead>\n",
       "  <tbody>\n",
       "    <tr>\n",
       "      <th>count</th>\n",
       "      <td>24592.000000</td>\n",
       "      <td>24592.000000</td>\n",
       "      <td>24592.000000</td>\n",
       "      <td>24592.000000</td>\n",
       "      <td>24592.000000</td>\n",
       "      <td>24592.000000</td>\n",
       "      <td>24592.000000</td>\n",
       "      <td>24592.000000</td>\n",
       "      <td>24592.000000</td>\n",
       "      <td>24592.000000</td>\n",
       "      <td>24592.000000</td>\n",
       "      <td>24592.000000</td>\n",
       "      <td>2.459200e+04</td>\n",
       "      <td>24592.000000</td>\n",
       "      <td>24592.000000</td>\n",
       "    </tr>\n",
       "    <tr>\n",
       "      <th>mean</th>\n",
       "      <td>46.630856</td>\n",
       "      <td>0.552332</td>\n",
       "      <td>0.699467</td>\n",
       "      <td>5.294689</td>\n",
       "      <td>-7.197119</td>\n",
       "      <td>0.619998</td>\n",
       "      <td>0.086761</td>\n",
       "      <td>0.187711</td>\n",
       "      <td>0.105915</td>\n",
       "      <td>0.199162</td>\n",
       "      <td>0.492010</td>\n",
       "      <td>123.591339</td>\n",
       "      <td>2.323517e+05</td>\n",
       "      <td>3.936117</td>\n",
       "      <td>3.230766</td>\n",
       "    </tr>\n",
       "    <tr>\n",
       "      <th>std</th>\n",
       "      <td>19.144355</td>\n",
       "      <td>0.167184</td>\n",
       "      <td>0.210599</td>\n",
       "      <td>3.566556</td>\n",
       "      <td>3.260646</td>\n",
       "      <td>0.485397</td>\n",
       "      <td>0.089344</td>\n",
       "      <td>0.265530</td>\n",
       "      <td>0.241141</td>\n",
       "      <td>0.157434</td>\n",
       "      <td>0.233304</td>\n",
       "      <td>29.386652</td>\n",
       "      <td>8.088932e+04</td>\n",
       "      <td>0.333596</td>\n",
       "      <td>1.694650</td>\n",
       "    </tr>\n",
       "    <tr>\n",
       "      <th>min</th>\n",
       "      <td>0.000000</td>\n",
       "      <td>0.000000</td>\n",
       "      <td>0.000020</td>\n",
       "      <td>0.000000</td>\n",
       "      <td>-34.825000</td>\n",
       "      <td>0.000000</td>\n",
       "      <td>0.000000</td>\n",
       "      <td>0.000000</td>\n",
       "      <td>0.000000</td>\n",
       "      <td>0.011900</td>\n",
       "      <td>0.000000</td>\n",
       "      <td>0.000000</td>\n",
       "      <td>1.379300e+04</td>\n",
       "      <td>0.000000</td>\n",
       "      <td>0.000000</td>\n",
       "    </tr>\n",
       "    <tr>\n",
       "      <th>25%</th>\n",
       "      <td>34.000000</td>\n",
       "      <td>0.439000</td>\n",
       "      <td>0.557000</td>\n",
       "      <td>2.000000</td>\n",
       "      <td>-8.771250</td>\n",
       "      <td>0.000000</td>\n",
       "      <td>0.036000</td>\n",
       "      <td>0.002290</td>\n",
       "      <td>0.000000</td>\n",
       "      <td>0.097400</td>\n",
       "      <td>0.310000</td>\n",
       "      <td>100.002000</td>\n",
       "      <td>1.864050e+05</td>\n",
       "      <td>4.000000</td>\n",
       "      <td>2.000000</td>\n",
       "    </tr>\n",
       "    <tr>\n",
       "      <th>50%</th>\n",
       "      <td>46.000000</td>\n",
       "      <td>0.551000</td>\n",
       "      <td>0.730000</td>\n",
       "      <td>5.000000</td>\n",
       "      <td>-6.563000</td>\n",
       "      <td>1.000000</td>\n",
       "      <td>0.051200</td>\n",
       "      <td>0.045900</td>\n",
       "      <td>0.000214</td>\n",
       "      <td>0.134000</td>\n",
       "      <td>0.488000</td>\n",
       "      <td>121.875000</td>\n",
       "      <td>2.180130e+05</td>\n",
       "      <td>4.000000</td>\n",
       "      <td>4.000000</td>\n",
       "    </tr>\n",
       "    <tr>\n",
       "      <th>75%</th>\n",
       "      <td>60.000000</td>\n",
       "      <td>0.669000</td>\n",
       "      <td>0.878000</td>\n",
       "      <td>8.000000</td>\n",
       "      <td>-4.936000</td>\n",
       "      <td>1.000000</td>\n",
       "      <td>0.093525</td>\n",
       "      <td>0.287000</td>\n",
       "      <td>0.027825</td>\n",
       "      <td>0.269000</td>\n",
       "      <td>0.671000</td>\n",
       "      <td>143.003500</td>\n",
       "      <td>2.587135e+05</td>\n",
       "      <td>4.000000</td>\n",
       "      <td>5.000000</td>\n",
       "    </tr>\n",
       "    <tr>\n",
       "      <th>max</th>\n",
       "      <td>100.000000</td>\n",
       "      <td>0.989000</td>\n",
       "      <td>1.000000</td>\n",
       "      <td>11.000000</td>\n",
       "      <td>1.355000</td>\n",
       "      <td>1.000000</td>\n",
       "      <td>0.960000</td>\n",
       "      <td>0.996000</td>\n",
       "      <td>0.996000</td>\n",
       "      <td>0.992000</td>\n",
       "      <td>0.986000</td>\n",
       "      <td>249.438000</td>\n",
       "      <td>1.561133e+06</td>\n",
       "      <td>5.000000</td>\n",
       "      <td>5.000000</td>\n",
       "    </tr>\n",
       "  </tbody>\n",
       "</table>\n",
       "</div>"
      ],
      "text/plain": [
       "         Popularity  danceability        energy           key      loudness  \\\n",
       "count  24592.000000  24592.000000  24592.000000  24592.000000  24592.000000   \n",
       "mean      46.630856      0.552332      0.699467      5.294689     -7.197119   \n",
       "std       19.144355      0.167184      0.210599      3.566556      3.260646   \n",
       "min        0.000000      0.000000      0.000020      0.000000    -34.825000   \n",
       "25%       34.000000      0.439000      0.557000      2.000000     -8.771250   \n",
       "50%       46.000000      0.551000      0.730000      5.000000     -6.563000   \n",
       "75%       60.000000      0.669000      0.878000      8.000000     -4.936000   \n",
       "max      100.000000      0.989000      1.000000     11.000000      1.355000   \n",
       "\n",
       "               mode   speechiness  acousticness  instrumentalness  \\\n",
       "count  24592.000000  24592.000000  24592.000000      24592.000000   \n",
       "mean       0.619998      0.086761      0.187711          0.105915   \n",
       "std        0.485397      0.089344      0.265530          0.241141   \n",
       "min        0.000000      0.000000      0.000000          0.000000   \n",
       "25%        0.000000      0.036000      0.002290          0.000000   \n",
       "50%        1.000000      0.051200      0.045900          0.000214   \n",
       "75%        1.000000      0.093525      0.287000          0.027825   \n",
       "max        1.000000      0.960000      0.996000          0.996000   \n",
       "\n",
       "           liveness       valence         tempo   duration_ms  time_signature  \\\n",
       "count  24592.000000  24592.000000  24592.000000  2.459200e+04    24592.000000   \n",
       "mean       0.199162      0.492010    123.591339  2.323517e+05        3.936117   \n",
       "std        0.157434      0.233304     29.386652  8.088932e+04        0.333596   \n",
       "min        0.011900      0.000000      0.000000  1.379300e+04        0.000000   \n",
       "25%        0.097400      0.310000    100.002000  1.864050e+05        4.000000   \n",
       "50%        0.134000      0.488000    121.875000  2.180130e+05        4.000000   \n",
       "75%        0.269000      0.671000    143.003500  2.587135e+05        4.000000   \n",
       "max        0.992000      0.986000    249.438000  1.561133e+06        5.000000   \n",
       "\n",
       "           Genre_id  \n",
       "count  24592.000000  \n",
       "mean       3.230766  \n",
       "std        1.694650  \n",
       "min        0.000000  \n",
       "25%        2.000000  \n",
       "50%        4.000000  \n",
       "75%        5.000000  \n",
       "max        5.000000  "
      ]
     },
     "execution_count": 4,
     "metadata": {},
     "output_type": "execute_result"
    }
   ],
   "source": [
    "df = pd.concat([t1,t2, t3, t4, t5, t6], ignore_index=True)\n",
    "df.info()\n",
    "df.describe()"
   ]
  },
  {
   "cell_type": "code",
   "execution_count": 6,
   "id": "8d77e4c4-dcaf-4457-a5ef-05b8858ddcb1",
   "metadata": {},
   "outputs": [
    {
     "data": {
      "image/png": "[encoded data removed]",
      "text/plain": [
       "<Figure size 432x288 with 1 Axes>"
      ]
     },
     "metadata": {
      "needs_background": "light"
     },
     "output_type": "display_data"
    }
   ],
   "source": [
    "plt.hist(df.Genre,6);"
   ]
  },
  {
   "cell_type": "markdown",
   "id": "dc2552cb-43e7-4b6e-b985-1ecdf5253ad5",
   "metadata": {},
   "source": [
    "As we can se from the histogram we have four times more rock songs than blues songs. "
   ]
  },
  {
   "cell_type": "markdown",
   "id": "541356b3-d4ad-4c3b-a043-62fb8d266a08",
   "metadata": {},
   "source": [
    "The data frame contains 24592 instances, they are all non_null so there will be no need to impute any information. \n",
    "To do the models we are going to keep only the instances that are float or int that have information about the song attributes such as danceability, speechiness and so on. "
   ]
  },
  {
   "cell_type": "code",
   "execution_count": 8,
   "id": "432463e6-0912-4c35-bc9c-94e13b8494ea",
   "metadata": {},
   "outputs": [
    {
     "name": "stdout",
     "output_type": "stream",
     "text": [
      "<class 'pandas.core.frame.DataFrame'>\n",
      "RangeIndex: 24592 entries, 0 to 24591\n",
      "Data columns (total 11 columns):\n",
      " #   Column            Non-Null Count  Dtype  \n",
      "---  ------            --------------  -----  \n",
      " 0   danceability      24592 non-null  float64\n",
      " 1   energy            24592 non-null  float64\n",
      " 2   key               24592 non-null  int64  \n",
      " 3   loudness          24592 non-null  float64\n",
      " 4   mode              24592 non-null  int64  \n",
      " 5   speechiness       24592 non-null  float64\n",
      " 6   acousticness      24592 non-null  float64\n",
      " 7   instrumentalness  24592 non-null  float64\n",
      " 8   liveness          24592 non-null  float64\n",
      " 9   valence           24592 non-null  float64\n",
      " 10  tempo             24592 non-null  float64\n",
      "dtypes: float64(9), int64(2)\n",
      "memory usage: 2.1 MB\n"
     ]
    }
   ],
   "source": [
    "X = df.iloc[:, 5:16]\n",
    "X.info()\n"
   ]
  },
  {
   "cell_type": "markdown",
   "id": "59280208-23f6-47ab-a140-508aaf210cea",
   "metadata": {},
   "source": [
    "We will use 11 features to cluster the songs. All 11 features will be scaled using standard scaling so all the features get the same importance. "
   ]
  },
  {
   "cell_type": "code",
   "execution_count": 9,
   "id": "b08750cf-b152-4a45-a895-913492e443c7",
   "metadata": {},
   "outputs": [],
   "source": [
    "from sklearn.preprocessing import StandardScaler\n",
    "scaler = StandardScaler()\n",
    "scaler.fit(X)\n",
    "X_t = scaler.transform(X)"
   ]
  },
  {
   "cell_type": "markdown",
   "id": "81d30aa6-fd32-4cf9-9db0-93d6f5a79f32",
   "metadata": {},
   "source": [
    "## Unsupervised models.\n",
    "Use different methods to create 6 different clusters"
   ]
  },
  {
   "cell_type": "markdown",
   "id": "a1ab53fe-d1cc-4759-a003-e449781e9513",
   "metadata": {},
   "source": [
    "### Agglomerative Clustering."
   ]
  },
  {
   "cell_type": "code",
   "execution_count": 10,
   "id": "e06370fd-d371-403d-b124-102fae13e130",
   "metadata": {},
   "outputs": [],
   "source": [
    "model = AgglomerativeClustering(n_clusters = 6, linkage= 'complete',\n",
    "                                affinity = 'euclidean').fit(X_t)\n",
    "                               \n"
   ]
  },
  {
   "cell_type": "markdown",
   "id": "ba1bc4ac-e7e4-4f59-ab70-b19fe082035c",
   "metadata": {},
   "source": [
    "How does our clusters look?"
   ]
  },
  {
   "cell_type": "code",
   "execution_count": 11,
   "id": "73097fb0-1aaf-470e-92cb-d5b5ce69773e",
   "metadata": {},
   "outputs": [
    {
     "data": {
      "text/plain": [
       "Text(0, 0.5, 'number of songs')"
      ]
     },
     "execution_count": 11,
     "metadata": {},
     "output_type": "execute_result"
    },
    {
     "data": {
      "image/png": "[encoded data removed]",
      "text/plain": [
       "<Figure size 432x288 with 1 Axes>"
      ]
     },
     "metadata": {
      "needs_background": "light"
     },
     "output_type": "display_data"
    }
   ],
   "source": [
    "plt.hist(model.labels_,6);\n",
    "plt.xlabel('cluster id')\n",
    "plt.ylabel('number of songs')"
   ]
  },
  {
   "cell_type": "markdown",
   "id": "ca30a4cb-394c-40b7-8bc1-0120ef52885c",
   "metadata": {},
   "source": [
    "From the histograms we can see agglomerative clustering is not really clustering the information across genres as the model put most of the songs in the second cluster, while the songs are more evenly spread along the different genres.  If we use the function created in week 2 to check for the accuracy of the algorithm we will see we get quite low accuracy results. "
   ]
  },
  {
   "cell_type": "code",
   "execution_count": 14,
   "id": "e25ed1bb-f8fa-4a50-afc4-eea6bcad9c46",
   "metadata": {},
   "outputs": [],
   "source": [
    "def label_permute_compare(ytdf,yp,n=6):\n",
    "    \"\"\"\n",
    "    ytdf: labels dataframe object\n",
    "    yp: clustering label prediction output\n",
    "    Returns permuted label order and accuracy. \n",
    "    Example output: (3, 4, 1, 2, 0), 0.74 \n",
    "    \"\"\"\n",
    "    \n",
    "    # your code here\n",
    "    #Get all possible permutations of [0,...,n-1] and find the one with the highest accuracy which will signal, the\n",
    "    #one that corresponds to the actual labels. \n",
    "    from itertools import permutations\n",
    "    perm = permutations(list(range(0, n))) \n",
    "    L_names = np.unique(ytdf)\n",
    "    #Create current best\n",
    "    current_p = next(perm)\n",
    "    d_lab = dict(zip(L_names, current_p))\n",
    "    #Create list of labels with the current permutation tags. \n",
    "    new_list = [d_lab[x] for x in ytdf]\n",
    "    #Calculate accuracy\n",
    "    acc_curr = accuracy_score(new_list,yp)\n",
    "    for i in range(1,math.factorial(n)):\n",
    "        #The challenger permutation\n",
    "        chall_p = next(perm)\n",
    "        d_lab = dict(zip(L_names, chall_p))\n",
    "        new_list = [d_lab[x] for x in ytdf]\n",
    "        acc_chall = accuracy_score(new_list,yp)\n",
    "        if acc_chall >= acc_curr:\n",
    "            current_p = chall_p\n",
    "            acc_curr = acc_chall\n",
    "    return current_p, acc_curr"
   ]
  },
  {
   "cell_type": "code",
   "execution_count": 15,
   "id": "e37e203e-ea7a-47f3-95b5-2c4fd437a72d",
   "metadata": {},
   "outputs": [
    {
     "name": "stdout",
     "output_type": "stream",
     "text": [
      "(2, 3, 0, 5, 4, 1) 0.38093689004554326\n"
     ]
    }
   ],
   "source": [
    "labelorder, acc = label_permute_compare(df.Genre_id, model.labels_)\n",
    "print(labelorder, acc)"
   ]
  },
  {
   "cell_type": "markdown",
   "id": "ab477ec7-d1f6-4f7c-b0c6-b021b574d105",
   "metadata": {},
   "source": [
    "As expected from the histograms the accuracy is pretty low, looking at the confusion matrix we see that most of the correctly guessed labels correspond to the seconf label, with 7186 correct guesses. But more that that number were predicted to be in that same cluster that correspond to different genres. "
   ]
  },
  {
   "cell_type": "code",
   "execution_count": 16,
   "id": "a878abe7-39e1-4397-a5cd-82576b82fedd",
   "metadata": {},
   "outputs": [
    {
     "data": {
      "text/plain": [
       "array([[ 258, 3274,    2,   95,  557,  152],\n",
       "       [  81, 7186,    1,   82, 1037,  360],\n",
       "       [  76, 1161,    5,   22,  668,  118],\n",
       "       [   8, 1528,   17,  762,  120,  146],\n",
       "       [  29, 2614,    0,  125,  990,   73],\n",
       "       [  28, 2744,    0,   18,   88,  167]])"
      ]
     },
     "execution_count": 16,
     "metadata": {},
     "output_type": "execute_result"
    }
   ],
   "source": [
    "d_lab = dict(zip(np.unique(df.Genre_id), labelorder))\n",
    "new_list = [d_lab[x] for x in df.Genre_id]\n",
    "confusion_matrix(new_list,model.labels_)"
   ]
  },
  {
   "cell_type": "markdown",
   "id": "99cedbae-a32b-4179-94ce-7f564e8866c1",
   "metadata": {},
   "source": [
    "Hyperparameter search to see if accuracy can be improved. "
   ]
  },
  {
   "cell_type": "code",
   "execution_count": 18,
   "id": "aaeab853-6376-4105-a588-9c6d83a08a19",
   "metadata": {},
   "outputs": [],
   "source": [
    "link = ['ward', 'complete', 'average', 'single']\n",
    "dist = ['euclidean', 'l1', 'l2', 'manhattan', 'cosine',]\n",
    "\n",
    "#Create data frames to store accuracy of each method.\n",
    "Acc_mod = pd.DataFrame(columns = link, index = dist)\n",
    "\n",
    "time_mod = pd.DataFrame(columns = link, index = dist)\n",
    "Acc_mod.loc[dist[0],link[0]] =1\n",
    "\n",
    "import time\n",
    "#loop over linkage methods\n",
    "for l in link:\n",
    "    #loop over distances. \n",
    "    for d in dist:\n",
    "        if l == 'ward' and d!='euclidean':\n",
    "            pass\n",
    "        else:\n",
    "            model = AgglomerativeClustering(n_clusters = 5, linkage = l, affinity= d).fit(X_t)\n",
    "            labelorder, acc = label_permute_compare(df.Genre_id, model.labels_)\n",
    "            Acc_mod.loc[d,l] = acc "
   ]
  },
  {
   "cell_type": "code",
   "execution_count": 20,
   "id": "fd493e55-ca95-472a-b2d2-6330c5b866c0",
   "metadata": {},
   "outputs": [
    {
     "data": {
      "text/html": [
       "<div>\n",
       "<style scoped>\n",
       "    .dataframe tbody tr th:only-of-type {\n",
       "        vertical-align: middle;\n",
       "    }\n",
       "\n",
       "    .dataframe tbody tr th {\n",
       "        vertical-align: top;\n",
       "    }\n",
       "\n",
       "    .dataframe thead th {\n",
       "        text-align: right;\n",
       "    }\n",
       "</style>\n",
       "<table border=\"1\" class=\"dataframe\">\n",
       "  <thead>\n",
       "    <tr style=\"text-align: right;\">\n",
       "      <th></th>\n",
       "      <th>ward</th>\n",
       "      <th>complete</th>\n",
       "      <th>average</th>\n",
       "      <th>single</th>\n",
       "    </tr>\n",
       "  </thead>\n",
       "  <tbody>\n",
       "    <tr>\n",
       "      <th>euclidean</th>\n",
       "      <td>0.361134</td>\n",
       "      <td>0.388785</td>\n",
       "      <td>0.364061</td>\n",
       "      <td>0.355766</td>\n",
       "    </tr>\n",
       "    <tr>\n",
       "      <th>l1</th>\n",
       "      <td>NaN</td>\n",
       "      <td>0.395738</td>\n",
       "      <td>0.356539</td>\n",
       "      <td>0.355725</td>\n",
       "    </tr>\n",
       "    <tr>\n",
       "      <th>l2</th>\n",
       "      <td>NaN</td>\n",
       "      <td>0.388785</td>\n",
       "      <td>0.364061</td>\n",
       "      <td>0.355766</td>\n",
       "    </tr>\n",
       "    <tr>\n",
       "      <th>manhattan</th>\n",
       "      <td>NaN</td>\n",
       "      <td>0.395738</td>\n",
       "      <td>0.356539</td>\n",
       "      <td>0.355725</td>\n",
       "    </tr>\n",
       "    <tr>\n",
       "      <th>cosine</th>\n",
       "      <td>NaN</td>\n",
       "      <td>0.348081</td>\n",
       "      <td>0.357881</td>\n",
       "      <td>0.355644</td>\n",
       "    </tr>\n",
       "  </tbody>\n",
       "</table>\n",
       "</div>"
      ],
      "text/plain": [
       "               ward  complete   average    single\n",
       "euclidean  0.361134  0.388785  0.364061  0.355766\n",
       "l1              NaN  0.395738  0.356539  0.355725\n",
       "l2              NaN  0.388785  0.364061  0.355766\n",
       "manhattan       NaN  0.395738  0.356539  0.355725\n",
       "cosine          NaN  0.348081  0.357881  0.355644"
      ]
     },
     "execution_count": 20,
     "metadata": {},
     "output_type": "execute_result"
    }
   ],
   "source": [
    "Acc_mod"
   ]
  },
  {
   "cell_type": "markdown",
   "id": "112ead00-9efe-4345-8d61-e9d6f51b57fd",
   "metadata": {},
   "source": [
    "The best results are for the complete linkage with either l1 or manhattan metrics where they approach a 0.4 accuracy. The worst results are for cosine."
   ]
  },
  {
   "cell_type": "markdown",
   "id": "12b086e6-0dfe-4035-99a0-bff917f79619",
   "metadata": {},
   "source": [
    "### K-means clustering. "
   ]
  },
  {
   "cell_type": "code",
   "execution_count": 21,
   "id": "55b8dca7-49db-413a-9932-2e248f99b269",
   "metadata": {},
   "outputs": [
    {
     "name": "stdout",
     "output_type": "stream",
     "text": [
      "(2, 0, 3, 4, 5, 1) 0.33209986987638257\n"
     ]
    }
   ],
   "source": [
    "modelk = KMeans(n_clusters=6).fit(X_t)\n",
    "labelorderk, acck = label_permute_compare(df.Genre_id, modelk.labels_)\n",
    "print(labelorderk, acck)"
   ]
  },
  {
   "cell_type": "code",
   "execution_count": 22,
   "id": "9c3f2be6-838b-4f74-b4c3-ef8885a8cf21",
   "metadata": {},
   "outputs": [
    {
     "data": {
      "image/png": "[encoded data removed]",
      "text/plain": [
       "<Figure size 432x288 with 1 Axes>"
      ]
     },
     "metadata": {
      "needs_background": "light"
     },
     "output_type": "display_data"
    }
   ],
   "source": [
    "plt.hist(modelk.labels_,6);"
   ]
  },
  {
   "cell_type": "code",
   "execution_count": 23,
   "id": "69e6f654-fa87-4e6d-8167-d01ac1e60b7f",
   "metadata": {},
   "outputs": [
    {
     "data": {
      "text/plain": [
       "array([[1481,  423,  138,   42,   68,  429],\n",
       "       [ 118, 2458, 1020,  684, 2651, 1816],\n",
       "       [  29,  560,  754,  109,  229,  369],\n",
       "       [ 158, 1175,  805,  751,  663,  786],\n",
       "       [  22,  274,   88,  656, 1533,  472],\n",
       "       [ 244, 1146,  957,   59,  235, 1190]])"
      ]
     },
     "execution_count": 23,
     "metadata": {},
     "output_type": "execute_result"
    }
   ],
   "source": [
    "d_lab = dict(zip(np.unique(df.Genre_id), labelorderk))\n",
    "new_list = [d_lab[x] for x in df.Genre_id]\n",
    "confusion_matrix(new_list,modelk.labels_)"
   ]
  },
  {
   "cell_type": "markdown",
   "id": "8c55dadd-ac35-46d3-86cc-8999ceed0cf1",
   "metadata": {},
   "source": [
    "The results for K-mean clustering are even worst than the ones for agglomerative clustering. "
   ]
  },
  {
   "cell_type": "markdown",
   "id": "6811b2a2-8ddc-4782-8115-141f41a81ffb",
   "metadata": {},
   "source": [
    "### NMF \n",
    "Factorize the matrix in two matrices to extract 6 topics. Because we need only positive values we adjust the data to be positive. "
   ]
  },
  {
   "cell_type": "code",
   "execution_count": 25,
   "id": "b857d599-072b-45a1-8c8a-1a089c80c665",
   "metadata": {},
   "outputs": [],
   "source": [
    "X_n = (X_t -X_t.min(axis=0))"
   ]
  },
  {
   "cell_type": "code",
   "execution_count": 31,
   "id": "fbd7fcf9-20a0-4e1f-ab4a-4d0f3900dd24",
   "metadata": {},
   "outputs": [
    {
     "name": "stdout",
     "output_type": "stream",
     "text": [
      "291.2499447698201\n"
     ]
    },
    {
     "name": "stderr",
     "output_type": "stream",
     "text": [
      "/Users/Aline/opt/anaconda3/lib/python3.9/site-packages/sklearn/decomposition/_nmf.py:1090: ConvergenceWarning: Maximum number of iterations 500 reached. Increase it to improve convergence.\n",
      "  warnings.warn(\"Maximum number of iterations %d reached. Increase it to\"\n"
     ]
    }
   ],
   "source": [
    "from sklearn import decomposition\n",
    "nmf_mod = decomposition.NMF(n_components=6, max_iter= 500,init = 'nndsvd')\n",
    "\n",
    "W = nmf_mod.fit_transform(X_n)\n",
    "H = nmf_mod.components_\n",
    "print(nmf_mod.reconstruction_err_)\n",
    "clusters = W.argmax(axis=1)"
   ]
  },
  {
   "cell_type": "code",
   "execution_count": 32,
   "id": "b4a719af-f940-42a0-85e8-99c4d5e581a4",
   "metadata": {},
   "outputs": [
    {
     "name": "stdout",
     "output_type": "stream",
     "text": [
      "(5, 4, 1, 3, 2, 0) 0.3255530253741054\n"
     ]
    }
   ],
   "source": [
    "labelordern, accn = label_permute_compare(df.Genre_id, clusters)\n",
    "print(labelordern, accn)"
   ]
  },
  {
   "cell_type": "markdown",
   "id": "d3bdaca8-e5d3-4179-9a0a-263943217a12",
   "metadata": {},
   "source": [
    "The results were worst than for previous methods. Try a different initialization as it didnt converge even for a 500 iterations. \n"
   ]
  },
  {
   "cell_type": "code",
   "execution_count": 33,
   "id": "aad0ca52-57cd-4154-9ba2-2830b1420364",
   "metadata": {},
   "outputs": [
    {
     "name": "stdout",
     "output_type": "stream",
     "text": [
      "291.107585617446\n"
     ]
    }
   ],
   "source": [
    "nmf_mod = decomposition.NMF(n_components=6, max_iter= 500,init = 'nndsvda')\n",
    "\n",
    "W = nmf_mod.fit_transform(X_n)\n",
    "H = nmf_mod.components_\n",
    "print(nmf_mod.reconstruction_err_)\n",
    "clusters = W.argmax(axis=1)"
   ]
  },
  {
   "cell_type": "code",
   "execution_count": 34,
   "id": "7665256d-84ce-4e20-8cd1-3655404994c6",
   "metadata": {},
   "outputs": [
    {
     "name": "stdout",
     "output_type": "stream",
     "text": [
      "(2, 3, 0, 1, 4, 5) 0.36682661027976576\n"
     ]
    }
   ],
   "source": [
    "labelordern, accn = label_permute_compare(df.Genre_id, clusters)\n",
    "print(labelordern, accn)"
   ]
  },
  {
   "cell_type": "markdown",
   "id": "439a2812-68ca-492c-b9dd-ed15752f7113",
   "metadata": {},
   "source": [
    "Results are still worse than agglomerative clustering. "
   ]
  },
  {
   "cell_type": "markdown",
   "id": "4ce45aea-ca8b-4869-9a9b-60591a1f64a4",
   "metadata": {},
   "source": [
    "## Supervised Learning models.\n",
    "Given that the unsupervised models clearly failed to cluster the songs by genre we try using supervised learning. \n",
    "First dividing the data set in train and test. "
   ]
  },
  {
   "cell_type": "code",
   "execution_count": 35,
   "id": "069ee9be-341f-4fb7-bbb5-2a261de03567",
   "metadata": {},
   "outputs": [],
   "source": [
    "from sklearn.model_selection import train_test_split\n",
    "x_train, x_test, y_train, y_test = train_test_split(X_t, df.Genre_id,\n",
    "                                    test_size=0.3, random_state=32)\n"
   ]
  },
  {
   "cell_type": "code",
   "execution_count": 36,
   "id": "e48c55bc-073d-4029-9258-9c61e99f84fa",
   "metadata": {},
   "outputs": [],
   "source": [
    "### Logistic Regression."
   ]
  },
  {
   "cell_type": "code",
   "execution_count": 39,
   "id": "0e43c7fe-2b48-4eed-a197-22870341cde6",
   "metadata": {},
   "outputs": [
    {
     "name": "stdout",
     "output_type": "stream",
     "text": [
      "Accuracy of train 0.5260253282212153\n",
      "Accuracy of test 0.5113851992409867\n"
     ]
    }
   ],
   "source": [
    "from sklearn.linear_model import LogisticRegression\n",
    "clf = LogisticRegression(random_state=12).fit(x_train, y_train)\n",
    "print('Accuracy of train' ,accuracy_score(y_train,clf.predict(x_train)))\n",
    "print('Accuracy of test' ,accuracy_score(y_test,clf.predict(x_test)))\n"
   ]
  },
  {
   "cell_type": "markdown",
   "id": "d6b89379-89a4-4572-a9c8-f7cb67383d06",
   "metadata": {},
   "source": [
    "The results from the logistic regression model are better, but still not good enough as they only predict correclty the genre of a bit more than half of the data. They were also way faster than the unsupervised methods as we didnt need to find the labels correspondance that takes a while. "
   ]
  },
  {
   "cell_type": "code",
   "execution_count": 45,
   "id": "c43015f1-4a62-4c00-a2b2-7d0f8df87ac3",
   "metadata": {},
   "outputs": [
    {
     "data": {
      "image/png": "[encoded data removed]",
      "text/plain": [
       "<Figure size 432x288 with 1 Axes>"
      ]
     },
     "metadata": {
      "needs_background": "light"
     },
     "output_type": "display_data"
    }
   ],
   "source": [
    "y_pred = clf.predict(np.concatenate((x_test, x_train)))\n",
    "plt.hist(y_pred);"
   ]
  },
  {
   "cell_type": "code",
   "execution_count": 46,
   "id": "04fbe666-cd6f-4b5d-ac66-806a3c3372ad",
   "metadata": {},
   "outputs": [
    {
     "data": {
      "text/plain": [
       "array([[  83,  209,  134,  192,  315, 1117],\n",
       "       [ 101,  239,  194,  258,  396, 1393],\n",
       "       [ 172,  447,  317,  388,  683, 2331],\n",
       "       [ 133,  302,  207,  324,  441, 1638],\n",
       "       [ 148,  397,  311,  405,  599, 1971],\n",
       "       [ 360,  898,  597,  860, 1346, 4686]])"
      ]
     },
     "execution_count": 46,
     "metadata": {},
     "output_type": "execute_result"
    }
   ],
   "source": [
    "confusion_matrix(np.concatenate((y_train,y_test)),y_pred)"
   ]
  },
  {
   "cell_type": "markdown",
   "id": "93fdb251-1b72-4919-a3a9-547fa63971b8",
   "metadata": {},
   "source": [
    "### Random Forest. \n"
   ]
  },
  {
   "cell_type": "code",
   "execution_count": 50,
   "id": "9f2eb237-9aec-4eaa-8cc9-907e8d1e4004",
   "metadata": {},
   "outputs": [
    {
     "name": "stdout",
     "output_type": "stream",
     "text": [
      "The train accuracy is:  0.432\n",
      "The test accuracy is:  0.425\n"
     ]
    }
   ],
   "source": [
    "from sklearn.ensemble import RandomForestClassifier\n",
    "RF = RandomForestClassifier(max_depth=2, random_state=32)\n",
    "Rfm = RF.fit(x_train, y_train)\n",
    "\n",
    "print(\"The train accuracy is: \",np.round(accuracy_score(Rfm.predict(x_train),y_train),3))\n",
    "print(\"The test accuracy is: \",np.round(accuracy_score(Rfm.predict(x_test),y_test),3))\n"
   ]
  },
  {
   "cell_type": "markdown",
   "id": "865d196f-b844-43cd-aa54-bee14b9f9e3d",
   "metadata": {},
   "source": [
    "## Conclusions.\n",
    "From the models I tried none was great at predicting the genre of the song, the best one was loggistic regresion and got a result a bit above half of the songs were correctly classified. \n",
    "This makes me conclude that the songs genres are not based on the features available in the dataset. \n",
    "However I thing they could be usefull for a recommendation engine using some similarity matrix. \n",
    "\n"
   ]
  },
  {
   "cell_type": "code",
   "execution_count": null,
   "id": "4851136f-cf95-4119-bcb3-7c1657a6075f",
   "metadata": {},
   "outputs": [],
   "source": []
  }
 ],
 "metadata": {
  "kernelspec": {
   "display_name": "Python 3 (ipykernel)",
   "language": "python",
   "name": "python3"
  },
  "language_info": {
   "codemirror_mode": {
    "name": "ipython",
    "version": 3
   },
   "file_extension": ".py",
   "mimetype": "text/x-python",
   "name": "python",
   "nbconvert_exporter": "python",
   "pygments_lexer": "ipython3",
   "version": "3.9.7"
  }
 },
 "nbformat": 4,
 "nbformat_minor": 5
}
